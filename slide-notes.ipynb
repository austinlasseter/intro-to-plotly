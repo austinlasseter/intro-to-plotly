{
 "cells": [
  {
   "cell_type": "markdown",
   "id": "d1a060ad",
   "metadata": {},
   "source": [
    "#  Data Visualization With Pandas"
   ]
  },
  {
   "cell_type": "markdown",
   "id": "6c544cd0",
   "metadata": {},
   "source": [
    "### Learning Objectives\n",
    "* Explain the characteristics of a great data visualization.\n",
    "* Identify when to use a bar chart, pie chart, line chart, scatterplot, or histogram.\n",
    "* Use Pandas to implement line charts, bar charts, scatterplots, and histograms.\n",
    " "
   ]
  },
  {
   "cell_type": "code",
   "execution_count": null,
   "id": "0e0e6fba",
   "metadata": {},
   "outputs": [],
   "source": [
    "import plotly.graph_objs as go\n",
    "import numpy as np"
   ]
  },
  {
   "cell_type": "markdown",
   "id": "35e6bc3f",
   "metadata": {},
   "source": [
    "## Bar Charts"
   ]
  },
  {
   "cell_type": "code",
   "execution_count": null,
   "id": "7629be22",
   "metadata": {},
   "outputs": [],
   "source": [
    "# Simple bar chart\n",
    "x_values=['monkeys', 'tigers', 'giraffes']\n",
    "y_values=[5, 7, 2]\n",
    "data1 =go.Bar(x=x_values, \n",
    "              y=y_values,\n",
    "              marker={'color':['#FAB303','blue','green']}\n",
    "             )\n",
    "\n",
    "data2 =go.Bar(x=x_values, \n",
    "              y=y_values*2,\n",
    "              marker={'color':['pink','red','brown']}\n",
    "             )\n",
    "fig = go.Figure([data1, data2] )\n",
    "fig "
   ]
  },
  {
   "cell_type": "markdown",
   "id": "0e4dfdab",
   "metadata": {},
   "source": [
    "### Pie Charts"
   ]
  },
  {
   "cell_type": "code",
   "execution_count": null,
   "id": "b7e817d9",
   "metadata": {},
   "outputs": [],
   "source": [
    "gas = ['Oxygen','Hydrogen','Carbon Dioxide','Nitrogen']\n",
    "volume = [4500,2500,1053,500]\n",
    "data = [go.Pie(labels=gas, \n",
    "               values=volume\n",
    "              )]\n",
    "fig = go.Figure(data )\n",
    "fig "
   ]
  },
  {
   "cell_type": "markdown",
   "id": "a000eb88",
   "metadata": {},
   "source": [
    "### Line Charts"
   ]
  },
  {
   "cell_type": "code",
   "execution_count": null,
   "id": "bcbff295",
   "metadata": {},
   "outputs": [],
   "source": [
    "\n",
    "x_values=[1980, 1990, 2000, 2010, 2020]\n",
    "y_values=[6, 5, 7, 2, 8]\n",
    "data =[go.Scatter(x=x_values,\n",
    "                  y=y_values,\n",
    "                  mode = 'markers')]\n",
    "fig = go.Figure(data )\n",
    "fig "
   ]
  },
  {
   "cell_type": "markdown",
   "id": "9be651a1",
   "metadata": {},
   "source": [
    "### Scatterplots"
   ]
  },
  {
   "cell_type": "code",
   "execution_count": null,
   "id": "8658bf1f",
   "metadata": {},
   "outputs": [],
   "source": [
    "\n",
    "random_x = np.random.randn(1000)\n",
    "random_y = np.random.randn(1000)\n"
   ]
  },
  {
   "cell_type": "code",
   "execution_count": null,
   "id": "a386e09a",
   "metadata": {},
   "outputs": [],
   "source": [
    "random_x[:100]"
   ]
  },
  {
   "cell_type": "code",
   "execution_count": null,
   "id": "5af7f8dd",
   "metadata": {},
   "outputs": [],
   "source": [
    "\n",
    "# Create a trace\n",
    "trace1 = go.Scatter(\n",
    "    x = random_x,\n",
    "    y = random_y,\n",
    "    mode = 'markers'\n",
    ")\n",
    "trace2 = go.Scatter(\n",
    "    x = random_x**2,\n",
    "    y = random_y**2,\n",
    "    mode = 'markers'\n",
    ")\n",
    "data = [trace1, trace2]\n",
    "fig = go.Figure(data)\n",
    "fig \n"
   ]
  },
  {
   "cell_type": "markdown",
   "id": "2567b56b",
   "metadata": {},
   "source": [
    "## Pandas ❤ Matplotlib"
   ]
  },
  {
   "cell_type": "code",
   "execution_count": 13,
   "id": "3a5372a1-9053-4db0-a640-500841cefe08",
   "metadata": {},
   "outputs": [],
   "source": [
    "# ! conda install matplotlib -y"
   ]
  },
  {
   "cell_type": "code",
   "execution_count": 1,
   "id": "8c212288",
   "metadata": {},
   "outputs": [],
   "source": [
    "import pandas as pd\n",
    "import matplotlib.pyplot as plt"
   ]
  },
  {
   "cell_type": "code",
   "execution_count": 35,
   "id": "c567cc1b",
   "metadata": {},
   "outputs": [
    {
     "data": {
      "text/plain": [
       "(80543, 15)"
      ]
     },
     "execution_count": 35,
     "metadata": {},
     "output_type": "execute_result"
    }
   ],
   "source": [
    "file_address = 'data/ufo2.csv'\n",
    "df = pd.read_csv(file_address) \n",
    "df.shape"
   ]
  },
  {
   "cell_type": "code",
   "execution_count": 36,
   "id": "6910d450",
   "metadata": {},
   "outputs": [
    {
     "data": {
      "text/html": [
       "<div>\n",
       "<style scoped>\n",
       "    .dataframe tbody tr th:only-of-type {\n",
       "        vertical-align: middle;\n",
       "    }\n",
       "\n",
       "    .dataframe tbody tr th {\n",
       "        vertical-align: top;\n",
       "    }\n",
       "\n",
       "    .dataframe thead th {\n",
       "        text-align: right;\n",
       "    }\n",
       "</style>\n",
       "<table border=\"1\" class=\"dataframe\">\n",
       "  <thead>\n",
       "    <tr style=\"text-align: right;\">\n",
       "      <th></th>\n",
       "      <th>Unnamed: 0</th>\n",
       "      <th>City</th>\n",
       "      <th>Colors Reported</th>\n",
       "      <th>Shape Reported</th>\n",
       "      <th>State</th>\n",
       "      <th>Time</th>\n",
       "      <th>Date</th>\n",
       "      <th>Year</th>\n",
       "      <th>Month</th>\n",
       "      <th>Day</th>\n",
       "      <th>Hour</th>\n",
       "      <th>Weekday</th>\n",
       "      <th>weekday_name</th>\n",
       "      <th>weekday_cats</th>\n",
       "      <th>sightings</th>\n",
       "    </tr>\n",
       "  </thead>\n",
       "  <tbody>\n",
       "    <tr>\n",
       "      <th>80538</th>\n",
       "      <td>80538</td>\n",
       "      <td>Neligh</td>\n",
       "      <td>NaN</td>\n",
       "      <td>CIRCLE</td>\n",
       "      <td>NE</td>\n",
       "      <td>2014-09-04 23:20:00</td>\n",
       "      <td>2014-09-04</td>\n",
       "      <td>2014</td>\n",
       "      <td>9</td>\n",
       "      <td>4</td>\n",
       "      <td>23</td>\n",
       "      <td>3</td>\n",
       "      <td>Wednesday</td>\n",
       "      <td>Wednesday</td>\n",
       "      <td>29</td>\n",
       "    </tr>\n",
       "    <tr>\n",
       "      <th>80539</th>\n",
       "      <td>80539</td>\n",
       "      <td>Uhrichsville</td>\n",
       "      <td>NaN</td>\n",
       "      <td>LIGHT</td>\n",
       "      <td>OH</td>\n",
       "      <td>2014-09-05 01:14:00</td>\n",
       "      <td>2014-09-05</td>\n",
       "      <td>2014</td>\n",
       "      <td>9</td>\n",
       "      <td>5</td>\n",
       "      <td>1</td>\n",
       "      <td>4</td>\n",
       "      <td>Thursday</td>\n",
       "      <td>Thursday</td>\n",
       "      <td>4</td>\n",
       "    </tr>\n",
       "    <tr>\n",
       "      <th>80540</th>\n",
       "      <td>80540</td>\n",
       "      <td>Tucson</td>\n",
       "      <td>RED BLUE</td>\n",
       "      <td>NaN</td>\n",
       "      <td>AZ</td>\n",
       "      <td>2014-09-05 02:40:00</td>\n",
       "      <td>2014-09-05</td>\n",
       "      <td>2014</td>\n",
       "      <td>9</td>\n",
       "      <td>5</td>\n",
       "      <td>2</td>\n",
       "      <td>4</td>\n",
       "      <td>Thursday</td>\n",
       "      <td>Thursday</td>\n",
       "      <td>4</td>\n",
       "    </tr>\n",
       "    <tr>\n",
       "      <th>80541</th>\n",
       "      <td>80541</td>\n",
       "      <td>Orland park</td>\n",
       "      <td>RED</td>\n",
       "      <td>LIGHT</td>\n",
       "      <td>IL</td>\n",
       "      <td>2014-09-05 03:43:00</td>\n",
       "      <td>2014-09-05</td>\n",
       "      <td>2014</td>\n",
       "      <td>9</td>\n",
       "      <td>5</td>\n",
       "      <td>3</td>\n",
       "      <td>4</td>\n",
       "      <td>Thursday</td>\n",
       "      <td>Thursday</td>\n",
       "      <td>4</td>\n",
       "    </tr>\n",
       "    <tr>\n",
       "      <th>80542</th>\n",
       "      <td>80542</td>\n",
       "      <td>Loughman</td>\n",
       "      <td>NaN</td>\n",
       "      <td>LIGHT</td>\n",
       "      <td>FL</td>\n",
       "      <td>2014-09-05 05:30:00</td>\n",
       "      <td>2014-09-05</td>\n",
       "      <td>2014</td>\n",
       "      <td>9</td>\n",
       "      <td>5</td>\n",
       "      <td>5</td>\n",
       "      <td>4</td>\n",
       "      <td>Thursday</td>\n",
       "      <td>Thursday</td>\n",
       "      <td>4</td>\n",
       "    </tr>\n",
       "  </tbody>\n",
       "</table>\n",
       "</div>"
      ],
      "text/plain": [
       "       Unnamed: 0          City Colors Reported Shape Reported State  \\\n",
       "80538       80538        Neligh             NaN         CIRCLE    NE   \n",
       "80539       80539  Uhrichsville             NaN          LIGHT    OH   \n",
       "80540       80540        Tucson        RED BLUE            NaN    AZ   \n",
       "80541       80541   Orland park             RED          LIGHT    IL   \n",
       "80542       80542      Loughman             NaN          LIGHT    FL   \n",
       "\n",
       "                      Time        Date  Year  Month  Day  Hour  Weekday  \\\n",
       "80538  2014-09-04 23:20:00  2014-09-04  2014      9    4    23        3   \n",
       "80539  2014-09-05 01:14:00  2014-09-05  2014      9    5     1        4   \n",
       "80540  2014-09-05 02:40:00  2014-09-05  2014      9    5     2        4   \n",
       "80541  2014-09-05 03:43:00  2014-09-05  2014      9    5     3        4   \n",
       "80542  2014-09-05 05:30:00  2014-09-05  2014      9    5     5        4   \n",
       "\n",
       "      weekday_name weekday_cats  sightings  \n",
       "80538    Wednesday    Wednesday         29  \n",
       "80539     Thursday     Thursday          4  \n",
       "80540     Thursday     Thursday          4  \n",
       "80541     Thursday     Thursday          4  \n",
       "80542     Thursday     Thursday          4  "
      ]
     },
     "execution_count": 36,
     "metadata": {},
     "output_type": "execute_result"
    }
   ],
   "source": [
    "df.tail()"
   ]
  },
  {
   "cell_type": "code",
   "execution_count": 37,
   "id": "b904612b",
   "metadata": {},
   "outputs": [
    {
     "data": {
      "text/plain": [
       "Unnamed: 0          int64\n",
       "City               object\n",
       "Colors Reported    object\n",
       "Shape Reported     object\n",
       "State              object\n",
       "Time               object\n",
       "Date               object\n",
       "Year                int64\n",
       "Month               int64\n",
       "Day                 int64\n",
       "Hour                int64\n",
       "Weekday             int64\n",
       "weekday_name       object\n",
       "weekday_cats       object\n",
       "sightings           int64\n",
       "dtype: object"
      ]
     },
     "execution_count": 37,
     "metadata": {},
     "output_type": "execute_result"
    }
   ],
   "source": [
    "df.dtypes"
   ]
  },
  {
   "cell_type": "code",
   "execution_count": 38,
   "id": "5db2a669-fb32-4791-8d78-68b36587a0e2",
   "metadata": {},
   "outputs": [
    {
     "data": {
      "text/html": [
       "<div>\n",
       "<style scoped>\n",
       "    .dataframe tbody tr th:only-of-type {\n",
       "        vertical-align: middle;\n",
       "    }\n",
       "\n",
       "    .dataframe tbody tr th {\n",
       "        vertical-align: top;\n",
       "    }\n",
       "\n",
       "    .dataframe thead th {\n",
       "        text-align: right;\n",
       "    }\n",
       "</style>\n",
       "<table border=\"1\" class=\"dataframe\">\n",
       "  <thead>\n",
       "    <tr style=\"text-align: right;\">\n",
       "      <th></th>\n",
       "      <th>0</th>\n",
       "      <th>1</th>\n",
       "      <th>2</th>\n",
       "      <th>3</th>\n",
       "      <th>4</th>\n",
       "    </tr>\n",
       "  </thead>\n",
       "  <tbody>\n",
       "    <tr>\n",
       "      <th>Unnamed: 0</th>\n",
       "      <td>0</td>\n",
       "      <td>1</td>\n",
       "      <td>2</td>\n",
       "      <td>3</td>\n",
       "      <td>4</td>\n",
       "    </tr>\n",
       "    <tr>\n",
       "      <th>City</th>\n",
       "      <td>Ithaca</td>\n",
       "      <td>Willingboro</td>\n",
       "      <td>Holyoke</td>\n",
       "      <td>Abilene</td>\n",
       "      <td>New York Worlds Fair</td>\n",
       "    </tr>\n",
       "    <tr>\n",
       "      <th>Colors Reported</th>\n",
       "      <td>NaN</td>\n",
       "      <td>NaN</td>\n",
       "      <td>NaN</td>\n",
       "      <td>NaN</td>\n",
       "      <td>NaN</td>\n",
       "    </tr>\n",
       "    <tr>\n",
       "      <th>Shape Reported</th>\n",
       "      <td>TRIANGLE</td>\n",
       "      <td>OTHER</td>\n",
       "      <td>OVAL</td>\n",
       "      <td>DISK</td>\n",
       "      <td>LIGHT</td>\n",
       "    </tr>\n",
       "    <tr>\n",
       "      <th>State</th>\n",
       "      <td>NY</td>\n",
       "      <td>NJ</td>\n",
       "      <td>CO</td>\n",
       "      <td>KS</td>\n",
       "      <td>NY</td>\n",
       "    </tr>\n",
       "    <tr>\n",
       "      <th>Time</th>\n",
       "      <td>1930-06-01 22:00:00</td>\n",
       "      <td>1930-06-30 20:00:00</td>\n",
       "      <td>1931-02-15 14:00:00</td>\n",
       "      <td>1931-06-01 13:00:00</td>\n",
       "      <td>1933-04-18 19:00:00</td>\n",
       "    </tr>\n",
       "    <tr>\n",
       "      <th>Date</th>\n",
       "      <td>1930-06-01</td>\n",
       "      <td>1930-06-30</td>\n",
       "      <td>1931-02-15</td>\n",
       "      <td>1931-06-01</td>\n",
       "      <td>1933-04-18</td>\n",
       "    </tr>\n",
       "    <tr>\n",
       "      <th>Year</th>\n",
       "      <td>1930</td>\n",
       "      <td>1930</td>\n",
       "      <td>1931</td>\n",
       "      <td>1931</td>\n",
       "      <td>1933</td>\n",
       "    </tr>\n",
       "    <tr>\n",
       "      <th>Month</th>\n",
       "      <td>6</td>\n",
       "      <td>6</td>\n",
       "      <td>2</td>\n",
       "      <td>6</td>\n",
       "      <td>4</td>\n",
       "    </tr>\n",
       "    <tr>\n",
       "      <th>Day</th>\n",
       "      <td>1</td>\n",
       "      <td>30</td>\n",
       "      <td>15</td>\n",
       "      <td>1</td>\n",
       "      <td>18</td>\n",
       "    </tr>\n",
       "    <tr>\n",
       "      <th>Hour</th>\n",
       "      <td>22</td>\n",
       "      <td>20</td>\n",
       "      <td>14</td>\n",
       "      <td>13</td>\n",
       "      <td>19</td>\n",
       "    </tr>\n",
       "    <tr>\n",
       "      <th>Weekday</th>\n",
       "      <td>6</td>\n",
       "      <td>0</td>\n",
       "      <td>6</td>\n",
       "      <td>0</td>\n",
       "      <td>1</td>\n",
       "    </tr>\n",
       "    <tr>\n",
       "      <th>weekday_name</th>\n",
       "      <td>Saturday</td>\n",
       "      <td>Sunday</td>\n",
       "      <td>Saturday</td>\n",
       "      <td>Sunday</td>\n",
       "      <td>Monday</td>\n",
       "    </tr>\n",
       "    <tr>\n",
       "      <th>weekday_cats</th>\n",
       "      <td>Saturday</td>\n",
       "      <td>Sunday</td>\n",
       "      <td>Saturday</td>\n",
       "      <td>Sunday</td>\n",
       "      <td>Monday</td>\n",
       "    </tr>\n",
       "    <tr>\n",
       "      <th>sightings</th>\n",
       "      <td>1</td>\n",
       "      <td>1</td>\n",
       "      <td>1</td>\n",
       "      <td>1</td>\n",
       "      <td>1</td>\n",
       "    </tr>\n",
       "  </tbody>\n",
       "</table>\n",
       "</div>"
      ],
      "text/plain": [
       "                                   0                    1  \\\n",
       "Unnamed: 0                         0                    1   \n",
       "City                          Ithaca          Willingboro   \n",
       "Colors Reported                  NaN                  NaN   \n",
       "Shape Reported              TRIANGLE                OTHER   \n",
       "State                             NY                   NJ   \n",
       "Time             1930-06-01 22:00:00  1930-06-30 20:00:00   \n",
       "Date                      1930-06-01           1930-06-30   \n",
       "Year                            1930                 1930   \n",
       "Month                              6                    6   \n",
       "Day                                1                   30   \n",
       "Hour                              22                   20   \n",
       "Weekday                            6                    0   \n",
       "weekday_name                Saturday               Sunday   \n",
       "weekday_cats                Saturday               Sunday   \n",
       "sightings                          1                    1   \n",
       "\n",
       "                                   2                    3  \\\n",
       "Unnamed: 0                         2                    3   \n",
       "City                         Holyoke              Abilene   \n",
       "Colors Reported                  NaN                  NaN   \n",
       "Shape Reported                  OVAL                 DISK   \n",
       "State                             CO                   KS   \n",
       "Time             1931-02-15 14:00:00  1931-06-01 13:00:00   \n",
       "Date                      1931-02-15           1931-06-01   \n",
       "Year                            1931                 1931   \n",
       "Month                              2                    6   \n",
       "Day                               15                    1   \n",
       "Hour                              14                   13   \n",
       "Weekday                            6                    0   \n",
       "weekday_name                Saturday               Sunday   \n",
       "weekday_cats                Saturday               Sunday   \n",
       "sightings                          1                    1   \n",
       "\n",
       "                                    4  \n",
       "Unnamed: 0                          4  \n",
       "City             New York Worlds Fair  \n",
       "Colors Reported                   NaN  \n",
       "Shape Reported                  LIGHT  \n",
       "State                              NY  \n",
       "Time              1933-04-18 19:00:00  \n",
       "Date                       1933-04-18  \n",
       "Year                             1933  \n",
       "Month                               4  \n",
       "Day                                18  \n",
       "Hour                               19  \n",
       "Weekday                             1  \n",
       "weekday_name                   Monday  \n",
       "weekday_cats                   Monday  \n",
       "sightings                           1  "
      ]
     },
     "execution_count": 38,
     "metadata": {},
     "output_type": "execute_result"
    }
   ],
   "source": [
    "df.head().T\n"
   ]
  },
  {
   "cell_type": "code",
   "execution_count": 39,
   "id": "51c3c267",
   "metadata": {},
   "outputs": [],
   "source": [
    "# create a new variable with proper datetime format\n",
    "df['new-time']=pd.to_datetime(df['Time'])"
   ]
  },
  {
   "cell_type": "code",
   "execution_count": 40,
   "id": "18c08cce",
   "metadata": {},
   "outputs": [
    {
     "data": {
      "text/html": [
       "<div>\n",
       "<style scoped>\n",
       "    .dataframe tbody tr th:only-of-type {\n",
       "        vertical-align: middle;\n",
       "    }\n",
       "\n",
       "    .dataframe tbody tr th {\n",
       "        vertical-align: top;\n",
       "    }\n",
       "\n",
       "    .dataframe thead th {\n",
       "        text-align: right;\n",
       "    }\n",
       "</style>\n",
       "<table border=\"1\" class=\"dataframe\">\n",
       "  <thead>\n",
       "    <tr style=\"text-align: right;\">\n",
       "      <th></th>\n",
       "      <th>Time</th>\n",
       "      <th>new-time</th>\n",
       "    </tr>\n",
       "  </thead>\n",
       "  <tbody>\n",
       "    <tr>\n",
       "      <th>0</th>\n",
       "      <td>1930-06-01 22:00:00</td>\n",
       "      <td>1930-06-01 22:00:00</td>\n",
       "    </tr>\n",
       "    <tr>\n",
       "      <th>1</th>\n",
       "      <td>1930-06-30 20:00:00</td>\n",
       "      <td>1930-06-30 20:00:00</td>\n",
       "    </tr>\n",
       "    <tr>\n",
       "      <th>2</th>\n",
       "      <td>1931-02-15 14:00:00</td>\n",
       "      <td>1931-02-15 14:00:00</td>\n",
       "    </tr>\n",
       "    <tr>\n",
       "      <th>3</th>\n",
       "      <td>1931-06-01 13:00:00</td>\n",
       "      <td>1931-06-01 13:00:00</td>\n",
       "    </tr>\n",
       "    <tr>\n",
       "      <th>4</th>\n",
       "      <td>1933-04-18 19:00:00</td>\n",
       "      <td>1933-04-18 19:00:00</td>\n",
       "    </tr>\n",
       "  </tbody>\n",
       "</table>\n",
       "</div>"
      ],
      "text/plain": [
       "                  Time            new-time\n",
       "0  1930-06-01 22:00:00 1930-06-01 22:00:00\n",
       "1  1930-06-30 20:00:00 1930-06-30 20:00:00\n",
       "2  1931-02-15 14:00:00 1931-02-15 14:00:00\n",
       "3  1931-06-01 13:00:00 1931-06-01 13:00:00\n",
       "4  1933-04-18 19:00:00 1933-04-18 19:00:00"
      ]
     },
     "execution_count": 40,
     "metadata": {},
     "output_type": "execute_result"
    }
   ],
   "source": [
    "df[['Time','new-time']].head()"
   ]
  },
  {
   "cell_type": "code",
   "execution_count": 41,
   "id": "8f4834e3",
   "metadata": {},
   "outputs": [
    {
     "data": {
      "text/plain": [
       "Time                object\n",
       "new-time    datetime64[ns]\n",
       "dtype: object"
      ]
     },
     "execution_count": 41,
     "metadata": {},
     "output_type": "execute_result"
    }
   ],
   "source": [
    "df[['Time','new-time']].dtypes"
   ]
  },
  {
   "cell_type": "code",
   "execution_count": 42,
   "id": "43724fa7",
   "metadata": {},
   "outputs": [],
   "source": [
    "filter1 = df['new-time']>pd.Timestamp(2013,7,1)"
   ]
  },
  {
   "cell_type": "code",
   "execution_count": 43,
   "id": "0d5db5cd",
   "metadata": {},
   "outputs": [],
   "source": [
    "filter2 = df['new-time']<pd.Timestamp(2013,8,1)"
   ]
  },
  {
   "cell_type": "code",
   "execution_count": 44,
   "id": "83f821e8",
   "metadata": {},
   "outputs": [
    {
     "data": {
      "text/html": [
       "<div>\n",
       "<style scoped>\n",
       "    .dataframe tbody tr th:only-of-type {\n",
       "        vertical-align: middle;\n",
       "    }\n",
       "\n",
       "    .dataframe tbody tr th {\n",
       "        vertical-align: top;\n",
       "    }\n",
       "\n",
       "    .dataframe thead th {\n",
       "        text-align: right;\n",
       "    }\n",
       "</style>\n",
       "<table border=\"1\" class=\"dataframe\">\n",
       "  <thead>\n",
       "    <tr style=\"text-align: right;\">\n",
       "      <th></th>\n",
       "      <th>Unnamed: 0</th>\n",
       "      <th>City</th>\n",
       "      <th>Colors Reported</th>\n",
       "      <th>Shape Reported</th>\n",
       "      <th>State</th>\n",
       "      <th>Time</th>\n",
       "      <th>Date</th>\n",
       "      <th>Year</th>\n",
       "      <th>Month</th>\n",
       "      <th>Day</th>\n",
       "      <th>Hour</th>\n",
       "      <th>Weekday</th>\n",
       "      <th>weekday_name</th>\n",
       "      <th>weekday_cats</th>\n",
       "      <th>sightings</th>\n",
       "      <th>new-time</th>\n",
       "    </tr>\n",
       "  </thead>\n",
       "  <tbody>\n",
       "    <tr>\n",
       "      <th>70553</th>\n",
       "      <td>70553</td>\n",
       "      <td>Lamar</td>\n",
       "      <td>NaN</td>\n",
       "      <td>TRIANGLE</td>\n",
       "      <td>SC</td>\n",
       "      <td>2013-07-01 02:20:00</td>\n",
       "      <td>2013-07-01</td>\n",
       "      <td>2013</td>\n",
       "      <td>7</td>\n",
       "      <td>1</td>\n",
       "      <td>2</td>\n",
       "      <td>0</td>\n",
       "      <td>Sunday</td>\n",
       "      <td>Sunday</td>\n",
       "      <td>17</td>\n",
       "      <td>2013-07-01 02:20:00</td>\n",
       "    </tr>\n",
       "    <tr>\n",
       "      <th>70554</th>\n",
       "      <td>70554</td>\n",
       "      <td>Madison</td>\n",
       "      <td>NaN</td>\n",
       "      <td>LIGHT</td>\n",
       "      <td>WI</td>\n",
       "      <td>2013-07-01 03:05:00</td>\n",
       "      <td>2013-07-01</td>\n",
       "      <td>2013</td>\n",
       "      <td>7</td>\n",
       "      <td>1</td>\n",
       "      <td>3</td>\n",
       "      <td>0</td>\n",
       "      <td>Sunday</td>\n",
       "      <td>Sunday</td>\n",
       "      <td>17</td>\n",
       "      <td>2013-07-01 03:05:00</td>\n",
       "    </tr>\n",
       "    <tr>\n",
       "      <th>70555</th>\n",
       "      <td>70555</td>\n",
       "      <td>Seattle</td>\n",
       "      <td>NaN</td>\n",
       "      <td>SPHERE</td>\n",
       "      <td>WA</td>\n",
       "      <td>2013-07-01 20:00:00</td>\n",
       "      <td>2013-07-01</td>\n",
       "      <td>2013</td>\n",
       "      <td>7</td>\n",
       "      <td>1</td>\n",
       "      <td>20</td>\n",
       "      <td>0</td>\n",
       "      <td>Sunday</td>\n",
       "      <td>Sunday</td>\n",
       "      <td>17</td>\n",
       "      <td>2013-07-01 20:00:00</td>\n",
       "    </tr>\n",
       "    <tr>\n",
       "      <th>70556</th>\n",
       "      <td>70556</td>\n",
       "      <td>Shorewood</td>\n",
       "      <td>ORANGE</td>\n",
       "      <td>OTHER</td>\n",
       "      <td>IL</td>\n",
       "      <td>2013-07-01 21:15:00</td>\n",
       "      <td>2013-07-01</td>\n",
       "      <td>2013</td>\n",
       "      <td>7</td>\n",
       "      <td>1</td>\n",
       "      <td>21</td>\n",
       "      <td>0</td>\n",
       "      <td>Sunday</td>\n",
       "      <td>Sunday</td>\n",
       "      <td>17</td>\n",
       "      <td>2013-07-01 21:15:00</td>\n",
       "    </tr>\n",
       "    <tr>\n",
       "      <th>70557</th>\n",
       "      <td>70557</td>\n",
       "      <td>Shorewood</td>\n",
       "      <td>ORANGE</td>\n",
       "      <td>OTHER</td>\n",
       "      <td>IL</td>\n",
       "      <td>2013-07-01 21:15:00</td>\n",
       "      <td>2013-07-01</td>\n",
       "      <td>2013</td>\n",
       "      <td>7</td>\n",
       "      <td>1</td>\n",
       "      <td>21</td>\n",
       "      <td>0</td>\n",
       "      <td>Sunday</td>\n",
       "      <td>Sunday</td>\n",
       "      <td>17</td>\n",
       "      <td>2013-07-01 21:15:00</td>\n",
       "    </tr>\n",
       "    <tr>\n",
       "      <th>...</th>\n",
       "      <td>...</td>\n",
       "      <td>...</td>\n",
       "      <td>...</td>\n",
       "      <td>...</td>\n",
       "      <td>...</td>\n",
       "      <td>...</td>\n",
       "      <td>...</td>\n",
       "      <td>...</td>\n",
       "      <td>...</td>\n",
       "      <td>...</td>\n",
       "      <td>...</td>\n",
       "      <td>...</td>\n",
       "      <td>...</td>\n",
       "      <td>...</td>\n",
       "      <td>...</td>\n",
       "      <td>...</td>\n",
       "    </tr>\n",
       "    <tr>\n",
       "      <th>71453</th>\n",
       "      <td>71453</td>\n",
       "      <td>Gresham</td>\n",
       "      <td>NaN</td>\n",
       "      <td>CIRCLE</td>\n",
       "      <td>OR</td>\n",
       "      <td>2013-07-31 21:40:00</td>\n",
       "      <td>2013-07-31</td>\n",
       "      <td>2013</td>\n",
       "      <td>7</td>\n",
       "      <td>31</td>\n",
       "      <td>21</td>\n",
       "      <td>2</td>\n",
       "      <td>Tuesday</td>\n",
       "      <td>Tuesday</td>\n",
       "      <td>12</td>\n",
       "      <td>2013-07-31 21:40:00</td>\n",
       "    </tr>\n",
       "    <tr>\n",
       "      <th>71454</th>\n",
       "      <td>71454</td>\n",
       "      <td>Buffalo</td>\n",
       "      <td>NaN</td>\n",
       "      <td>FIREBALL</td>\n",
       "      <td>NY</td>\n",
       "      <td>2013-07-31 21:55:00</td>\n",
       "      <td>2013-07-31</td>\n",
       "      <td>2013</td>\n",
       "      <td>7</td>\n",
       "      <td>31</td>\n",
       "      <td>21</td>\n",
       "      <td>2</td>\n",
       "      <td>Tuesday</td>\n",
       "      <td>Tuesday</td>\n",
       "      <td>12</td>\n",
       "      <td>2013-07-31 21:55:00</td>\n",
       "    </tr>\n",
       "    <tr>\n",
       "      <th>71455</th>\n",
       "      <td>71455</td>\n",
       "      <td>Mt. Chestnut</td>\n",
       "      <td>NaN</td>\n",
       "      <td>CIRCLE</td>\n",
       "      <td>PA</td>\n",
       "      <td>2013-07-31 22:00:00</td>\n",
       "      <td>2013-07-31</td>\n",
       "      <td>2013</td>\n",
       "      <td>7</td>\n",
       "      <td>31</td>\n",
       "      <td>22</td>\n",
       "      <td>2</td>\n",
       "      <td>Tuesday</td>\n",
       "      <td>Tuesday</td>\n",
       "      <td>12</td>\n",
       "      <td>2013-07-31 22:00:00</td>\n",
       "    </tr>\n",
       "    <tr>\n",
       "      <th>71456</th>\n",
       "      <td>71456</td>\n",
       "      <td>Elk Grove</td>\n",
       "      <td>NaN</td>\n",
       "      <td>CIRCLE</td>\n",
       "      <td>CA</td>\n",
       "      <td>2013-07-31 22:34:00</td>\n",
       "      <td>2013-07-31</td>\n",
       "      <td>2013</td>\n",
       "      <td>7</td>\n",
       "      <td>31</td>\n",
       "      <td>22</td>\n",
       "      <td>2</td>\n",
       "      <td>Tuesday</td>\n",
       "      <td>Tuesday</td>\n",
       "      <td>12</td>\n",
       "      <td>2013-07-31 22:34:00</td>\n",
       "    </tr>\n",
       "    <tr>\n",
       "      <th>71457</th>\n",
       "      <td>71457</td>\n",
       "      <td>Commerce</td>\n",
       "      <td>NaN</td>\n",
       "      <td>EGG</td>\n",
       "      <td>CA</td>\n",
       "      <td>2013-07-31 23:10:00</td>\n",
       "      <td>2013-07-31</td>\n",
       "      <td>2013</td>\n",
       "      <td>7</td>\n",
       "      <td>31</td>\n",
       "      <td>23</td>\n",
       "      <td>2</td>\n",
       "      <td>Tuesday</td>\n",
       "      <td>Tuesday</td>\n",
       "      <td>12</td>\n",
       "      <td>2013-07-31 23:10:00</td>\n",
       "    </tr>\n",
       "  </tbody>\n",
       "</table>\n",
       "<p>905 rows × 16 columns</p>\n",
       "</div>"
      ],
      "text/plain": [
       "       Unnamed: 0          City Colors Reported Shape Reported State  \\\n",
       "70553       70553         Lamar             NaN       TRIANGLE    SC   \n",
       "70554       70554       Madison             NaN          LIGHT    WI   \n",
       "70555       70555       Seattle             NaN         SPHERE    WA   \n",
       "70556       70556     Shorewood          ORANGE          OTHER    IL   \n",
       "70557       70557     Shorewood          ORANGE          OTHER    IL   \n",
       "...           ...           ...             ...            ...   ...   \n",
       "71453       71453       Gresham             NaN         CIRCLE    OR   \n",
       "71454       71454       Buffalo             NaN       FIREBALL    NY   \n",
       "71455       71455  Mt. Chestnut             NaN         CIRCLE    PA   \n",
       "71456       71456     Elk Grove             NaN         CIRCLE    CA   \n",
       "71457       71457      Commerce             NaN            EGG    CA   \n",
       "\n",
       "                      Time        Date  Year  Month  Day  Hour  Weekday  \\\n",
       "70553  2013-07-01 02:20:00  2013-07-01  2013      7    1     2        0   \n",
       "70554  2013-07-01 03:05:00  2013-07-01  2013      7    1     3        0   \n",
       "70555  2013-07-01 20:00:00  2013-07-01  2013      7    1    20        0   \n",
       "70556  2013-07-01 21:15:00  2013-07-01  2013      7    1    21        0   \n",
       "70557  2013-07-01 21:15:00  2013-07-01  2013      7    1    21        0   \n",
       "...                    ...         ...   ...    ...  ...   ...      ...   \n",
       "71453  2013-07-31 21:40:00  2013-07-31  2013      7   31    21        2   \n",
       "71454  2013-07-31 21:55:00  2013-07-31  2013      7   31    21        2   \n",
       "71455  2013-07-31 22:00:00  2013-07-31  2013      7   31    22        2   \n",
       "71456  2013-07-31 22:34:00  2013-07-31  2013      7   31    22        2   \n",
       "71457  2013-07-31 23:10:00  2013-07-31  2013      7   31    23        2   \n",
       "\n",
       "      weekday_name weekday_cats  sightings            new-time  \n",
       "70553       Sunday       Sunday         17 2013-07-01 02:20:00  \n",
       "70554       Sunday       Sunday         17 2013-07-01 03:05:00  \n",
       "70555       Sunday       Sunday         17 2013-07-01 20:00:00  \n",
       "70556       Sunday       Sunday         17 2013-07-01 21:15:00  \n",
       "70557       Sunday       Sunday         17 2013-07-01 21:15:00  \n",
       "...            ...          ...        ...                 ...  \n",
       "71453      Tuesday      Tuesday         12 2013-07-31 21:40:00  \n",
       "71454      Tuesday      Tuesday         12 2013-07-31 21:55:00  \n",
       "71455      Tuesday      Tuesday         12 2013-07-31 22:00:00  \n",
       "71456      Tuesday      Tuesday         12 2013-07-31 22:34:00  \n",
       "71457      Tuesday      Tuesday         12 2013-07-31 23:10:00  \n",
       "\n",
       "[905 rows x 16 columns]"
      ]
     },
     "execution_count": 44,
     "metadata": {},
     "output_type": "execute_result"
    }
   ],
   "source": [
    "df[ (filter1) & (filter2) ] "
   ]
  },
  {
   "cell_type": "code",
   "execution_count": 45,
   "id": "9778d8b3",
   "metadata": {},
   "outputs": [
    {
     "name": "stdout",
     "output_type": "stream",
     "text": [
      "(80543, 16)\n",
      "(905, 16)\n"
     ]
    }
   ],
   "source": [
    "# let's filter down to just a single month of data\n",
    "df_small = df[(df['new-time']>pd.Timestamp(2013,7,1)) & (df['new-time']<pd.Timestamp(2013,8,1))].copy()\n",
    "\n",
    "print(df.shape)\n",
    "print(df_small.shape)"
   ]
  },
  {
   "cell_type": "code",
   "execution_count": 46,
   "id": "e1b22bd0",
   "metadata": {},
   "outputs": [
    {
     "data": {
      "text/html": [
       "<div>\n",
       "<style scoped>\n",
       "    .dataframe tbody tr th:only-of-type {\n",
       "        vertical-align: middle;\n",
       "    }\n",
       "\n",
       "    .dataframe tbody tr th {\n",
       "        vertical-align: top;\n",
       "    }\n",
       "\n",
       "    .dataframe thead th {\n",
       "        text-align: right;\n",
       "    }\n",
       "</style>\n",
       "<table border=\"1\" class=\"dataframe\">\n",
       "  <thead>\n",
       "    <tr style=\"text-align: right;\">\n",
       "      <th></th>\n",
       "      <th>Unnamed: 0</th>\n",
       "      <th>City</th>\n",
       "      <th>Colors Reported</th>\n",
       "      <th>Shape Reported</th>\n",
       "      <th>State</th>\n",
       "      <th>Time</th>\n",
       "      <th>Date</th>\n",
       "      <th>Year</th>\n",
       "      <th>Month</th>\n",
       "      <th>Day</th>\n",
       "      <th>Hour</th>\n",
       "      <th>Weekday</th>\n",
       "      <th>weekday_name</th>\n",
       "      <th>weekday_cats</th>\n",
       "      <th>sightings</th>\n",
       "      <th>new-time</th>\n",
       "    </tr>\n",
       "  </thead>\n",
       "  <tbody>\n",
       "    <tr>\n",
       "      <th>70553</th>\n",
       "      <td>70553</td>\n",
       "      <td>Lamar</td>\n",
       "      <td>NaN</td>\n",
       "      <td>TRIANGLE</td>\n",
       "      <td>SC</td>\n",
       "      <td>2013-07-01 02:20:00</td>\n",
       "      <td>2013-07-01</td>\n",
       "      <td>2013</td>\n",
       "      <td>7</td>\n",
       "      <td>1</td>\n",
       "      <td>2</td>\n",
       "      <td>0</td>\n",
       "      <td>Sunday</td>\n",
       "      <td>Sunday</td>\n",
       "      <td>17</td>\n",
       "      <td>2013-07-01 02:20:00</td>\n",
       "    </tr>\n",
       "    <tr>\n",
       "      <th>70554</th>\n",
       "      <td>70554</td>\n",
       "      <td>Madison</td>\n",
       "      <td>NaN</td>\n",
       "      <td>LIGHT</td>\n",
       "      <td>WI</td>\n",
       "      <td>2013-07-01 03:05:00</td>\n",
       "      <td>2013-07-01</td>\n",
       "      <td>2013</td>\n",
       "      <td>7</td>\n",
       "      <td>1</td>\n",
       "      <td>3</td>\n",
       "      <td>0</td>\n",
       "      <td>Sunday</td>\n",
       "      <td>Sunday</td>\n",
       "      <td>17</td>\n",
       "      <td>2013-07-01 03:05:00</td>\n",
       "    </tr>\n",
       "    <tr>\n",
       "      <th>70555</th>\n",
       "      <td>70555</td>\n",
       "      <td>Seattle</td>\n",
       "      <td>NaN</td>\n",
       "      <td>SPHERE</td>\n",
       "      <td>WA</td>\n",
       "      <td>2013-07-01 20:00:00</td>\n",
       "      <td>2013-07-01</td>\n",
       "      <td>2013</td>\n",
       "      <td>7</td>\n",
       "      <td>1</td>\n",
       "      <td>20</td>\n",
       "      <td>0</td>\n",
       "      <td>Sunday</td>\n",
       "      <td>Sunday</td>\n",
       "      <td>17</td>\n",
       "      <td>2013-07-01 20:00:00</td>\n",
       "    </tr>\n",
       "    <tr>\n",
       "      <th>70556</th>\n",
       "      <td>70556</td>\n",
       "      <td>Shorewood</td>\n",
       "      <td>ORANGE</td>\n",
       "      <td>OTHER</td>\n",
       "      <td>IL</td>\n",
       "      <td>2013-07-01 21:15:00</td>\n",
       "      <td>2013-07-01</td>\n",
       "      <td>2013</td>\n",
       "      <td>7</td>\n",
       "      <td>1</td>\n",
       "      <td>21</td>\n",
       "      <td>0</td>\n",
       "      <td>Sunday</td>\n",
       "      <td>Sunday</td>\n",
       "      <td>17</td>\n",
       "      <td>2013-07-01 21:15:00</td>\n",
       "    </tr>\n",
       "    <tr>\n",
       "      <th>70557</th>\n",
       "      <td>70557</td>\n",
       "      <td>Shorewood</td>\n",
       "      <td>ORANGE</td>\n",
       "      <td>OTHER</td>\n",
       "      <td>IL</td>\n",
       "      <td>2013-07-01 21:15:00</td>\n",
       "      <td>2013-07-01</td>\n",
       "      <td>2013</td>\n",
       "      <td>7</td>\n",
       "      <td>1</td>\n",
       "      <td>21</td>\n",
       "      <td>0</td>\n",
       "      <td>Sunday</td>\n",
       "      <td>Sunday</td>\n",
       "      <td>17</td>\n",
       "      <td>2013-07-01 21:15:00</td>\n",
       "    </tr>\n",
       "  </tbody>\n",
       "</table>\n",
       "</div>"
      ],
      "text/plain": [
       "       Unnamed: 0       City Colors Reported Shape Reported State  \\\n",
       "70553       70553      Lamar             NaN       TRIANGLE    SC   \n",
       "70554       70554    Madison             NaN          LIGHT    WI   \n",
       "70555       70555    Seattle             NaN         SPHERE    WA   \n",
       "70556       70556  Shorewood          ORANGE          OTHER    IL   \n",
       "70557       70557  Shorewood          ORANGE          OTHER    IL   \n",
       "\n",
       "                      Time        Date  Year  Month  Day  Hour  Weekday  \\\n",
       "70553  2013-07-01 02:20:00  2013-07-01  2013      7    1     2        0   \n",
       "70554  2013-07-01 03:05:00  2013-07-01  2013      7    1     3        0   \n",
       "70555  2013-07-01 20:00:00  2013-07-01  2013      7    1    20        0   \n",
       "70556  2013-07-01 21:15:00  2013-07-01  2013      7    1    21        0   \n",
       "70557  2013-07-01 21:15:00  2013-07-01  2013      7    1    21        0   \n",
       "\n",
       "      weekday_name weekday_cats  sightings            new-time  \n",
       "70553       Sunday       Sunday         17 2013-07-01 02:20:00  \n",
       "70554       Sunday       Sunday         17 2013-07-01 03:05:00  \n",
       "70555       Sunday       Sunday         17 2013-07-01 20:00:00  \n",
       "70556       Sunday       Sunday         17 2013-07-01 21:15:00  \n",
       "70557       Sunday       Sunday         17 2013-07-01 21:15:00  "
      ]
     },
     "execution_count": 51,
     "metadata": {},
     "output_type": "execute_result"
    }
   ],
   "source": [
    "df_small.head()"
   ]
  },
  {
   "cell_type": "code",
   "execution_count": 47,
   "id": "a7d1e4fa",
   "metadata": {},
   "outputs": [],
   "source": [
    "# set the time as an index, so we can plot more easily\n",
    "df_small.set_index('new-time',inplace=True)"
   ]
  },
  {
   "cell_type": "code",
   "execution_count": 48,
   "id": "744906e3",
   "metadata": {},
   "outputs": [
    {
     "data": {
      "text/html": [
       "<div>\n",
       "<style scoped>\n",
       "    .dataframe tbody tr th:only-of-type {\n",
       "        vertical-align: middle;\n",
       "    }\n",
       "\n",
       "    .dataframe tbody tr th {\n",
       "        vertical-align: top;\n",
       "    }\n",
       "\n",
       "    .dataframe thead th {\n",
       "        text-align: right;\n",
       "    }\n",
       "</style>\n",
       "<table border=\"1\" class=\"dataframe\">\n",
       "  <thead>\n",
       "    <tr style=\"text-align: right;\">\n",
       "      <th></th>\n",
       "      <th>Unnamed: 0</th>\n",
       "      <th>City</th>\n",
       "      <th>Colors Reported</th>\n",
       "      <th>Shape Reported</th>\n",
       "      <th>State</th>\n",
       "      <th>Time</th>\n",
       "      <th>Date</th>\n",
       "      <th>Year</th>\n",
       "      <th>Month</th>\n",
       "      <th>Day</th>\n",
       "      <th>Hour</th>\n",
       "      <th>Weekday</th>\n",
       "      <th>weekday_name</th>\n",
       "      <th>weekday_cats</th>\n",
       "      <th>sightings</th>\n",
       "    </tr>\n",
       "    <tr>\n",
       "      <th>new-time</th>\n",
       "      <th></th>\n",
       "      <th></th>\n",
       "      <th></th>\n",
       "      <th></th>\n",
       "      <th></th>\n",
       "      <th></th>\n",
       "      <th></th>\n",
       "      <th></th>\n",
       "      <th></th>\n",
       "      <th></th>\n",
       "      <th></th>\n",
       "      <th></th>\n",
       "      <th></th>\n",
       "      <th></th>\n",
       "      <th></th>\n",
       "    </tr>\n",
       "  </thead>\n",
       "  <tbody>\n",
       "    <tr>\n",
       "      <th>2013-07-31 21:40:00</th>\n",
       "      <td>71453</td>\n",
       "      <td>Gresham</td>\n",
       "      <td>NaN</td>\n",
       "      <td>CIRCLE</td>\n",
       "      <td>OR</td>\n",
       "      <td>2013-07-31 21:40:00</td>\n",
       "      <td>2013-07-31</td>\n",
       "      <td>2013</td>\n",
       "      <td>7</td>\n",
       "      <td>31</td>\n",
       "      <td>21</td>\n",
       "      <td>2</td>\n",
       "      <td>Tuesday</td>\n",
       "      <td>Tuesday</td>\n",
       "      <td>12</td>\n",
       "    </tr>\n",
       "    <tr>\n",
       "      <th>2013-07-31 21:55:00</th>\n",
       "      <td>71454</td>\n",
       "      <td>Buffalo</td>\n",
       "      <td>NaN</td>\n",
       "      <td>FIREBALL</td>\n",
       "      <td>NY</td>\n",
       "      <td>2013-07-31 21:55:00</td>\n",
       "      <td>2013-07-31</td>\n",
       "      <td>2013</td>\n",
       "      <td>7</td>\n",
       "      <td>31</td>\n",
       "      <td>21</td>\n",
       "      <td>2</td>\n",
       "      <td>Tuesday</td>\n",
       "      <td>Tuesday</td>\n",
       "      <td>12</td>\n",
       "    </tr>\n",
       "    <tr>\n",
       "      <th>2013-07-31 22:00:00</th>\n",
       "      <td>71455</td>\n",
       "      <td>Mt. Chestnut</td>\n",
       "      <td>NaN</td>\n",
       "      <td>CIRCLE</td>\n",
       "      <td>PA</td>\n",
       "      <td>2013-07-31 22:00:00</td>\n",
       "      <td>2013-07-31</td>\n",
       "      <td>2013</td>\n",
       "      <td>7</td>\n",
       "      <td>31</td>\n",
       "      <td>22</td>\n",
       "      <td>2</td>\n",
       "      <td>Tuesday</td>\n",
       "      <td>Tuesday</td>\n",
       "      <td>12</td>\n",
       "    </tr>\n",
       "    <tr>\n",
       "      <th>2013-07-31 22:34:00</th>\n",
       "      <td>71456</td>\n",
       "      <td>Elk Grove</td>\n",
       "      <td>NaN</td>\n",
       "      <td>CIRCLE</td>\n",
       "      <td>CA</td>\n",
       "      <td>2013-07-31 22:34:00</td>\n",
       "      <td>2013-07-31</td>\n",
       "      <td>2013</td>\n",
       "      <td>7</td>\n",
       "      <td>31</td>\n",
       "      <td>22</td>\n",
       "      <td>2</td>\n",
       "      <td>Tuesday</td>\n",
       "      <td>Tuesday</td>\n",
       "      <td>12</td>\n",
       "    </tr>\n",
       "    <tr>\n",
       "      <th>2013-07-31 23:10:00</th>\n",
       "      <td>71457</td>\n",
       "      <td>Commerce</td>\n",
       "      <td>NaN</td>\n",
       "      <td>EGG</td>\n",
       "      <td>CA</td>\n",
       "      <td>2013-07-31 23:10:00</td>\n",
       "      <td>2013-07-31</td>\n",
       "      <td>2013</td>\n",
       "      <td>7</td>\n",
       "      <td>31</td>\n",
       "      <td>23</td>\n",
       "      <td>2</td>\n",
       "      <td>Tuesday</td>\n",
       "      <td>Tuesday</td>\n",
       "      <td>12</td>\n",
       "    </tr>\n",
       "  </tbody>\n",
       "</table>\n",
       "</div>"
      ],
      "text/plain": [
       "                     Unnamed: 0          City Colors Reported Shape Reported  \\\n",
       "new-time                                                                       \n",
       "2013-07-31 21:40:00       71453       Gresham             NaN         CIRCLE   \n",
       "2013-07-31 21:55:00       71454       Buffalo             NaN       FIREBALL   \n",
       "2013-07-31 22:00:00       71455  Mt. Chestnut             NaN         CIRCLE   \n",
       "2013-07-31 22:34:00       71456     Elk Grove             NaN         CIRCLE   \n",
       "2013-07-31 23:10:00       71457      Commerce             NaN            EGG   \n",
       "\n",
       "                    State                 Time        Date  Year  Month  Day  \\\n",
       "new-time                                                                       \n",
       "2013-07-31 21:40:00    OR  2013-07-31 21:40:00  2013-07-31  2013      7   31   \n",
       "2013-07-31 21:55:00    NY  2013-07-31 21:55:00  2013-07-31  2013      7   31   \n",
       "2013-07-31 22:00:00    PA  2013-07-31 22:00:00  2013-07-31  2013      7   31   \n",
       "2013-07-31 22:34:00    CA  2013-07-31 22:34:00  2013-07-31  2013      7   31   \n",
       "2013-07-31 23:10:00    CA  2013-07-31 23:10:00  2013-07-31  2013      7   31   \n",
       "\n",
       "                     Hour  Weekday weekday_name weekday_cats  sightings  \n",
       "new-time                                                                 \n",
       "2013-07-31 21:40:00    21        2      Tuesday      Tuesday         12  \n",
       "2013-07-31 21:55:00    21        2      Tuesday      Tuesday         12  \n",
       "2013-07-31 22:00:00    22        2      Tuesday      Tuesday         12  \n",
       "2013-07-31 22:34:00    22        2      Tuesday      Tuesday         12  \n",
       "2013-07-31 23:10:00    23        2      Tuesday      Tuesday         12  "
      ]
     },
     "execution_count": 48,
     "metadata": {},
     "output_type": "execute_result"
    }
   ],
   "source": [
    "df_small.tail()"
   ]
  },
  {
   "cell_type": "code",
   "execution_count": 49,
   "id": "c93ae0ff",
   "metadata": {},
   "outputs": [
    {
     "data": {
      "text/plain": [
       "<AxesSubplot:>"
      ]
     },
     "execution_count": 49,
     "metadata": {},
     "output_type": "execute_result"
    },
    {
     "data": {
      "image/png": "[encoded data removed]",
      "text/plain": [
       "<Figure size 432x288 with 1 Axes>"
      ]
     },
     "metadata": {
      "needs_background": "light"
     },
     "output_type": "display_data"
    }
   ],
   "source": [
    "df['sightings'].plot()"
   ]
  },
  {
   "cell_type": "code",
   "execution_count": 55,
   "id": "2028cbfe",
   "metadata": {},
   "outputs": [
    {
     "data": {
      "image/png": "[encoded data removed]",
      "text/plain": [
       "<Figure size 1440x216 with 1 Axes>"
      ]
     },
     "metadata": {
      "needs_background": "light"
     },
     "output_type": "display_data"
    }
   ],
   "source": [
    "df_small['sightings'].plot(figsize=(20,3));"
   ]
  },
  {
   "cell_type": "code",
   "execution_count": 56,
   "id": "5e7aa78a",
   "metadata": {},
   "outputs": [
    {
     "data": {
      "image/png": "[encoded data removed]",
      "text/plain": [
       "<Figure size 1152x648 with 1 Axes>"
      ]
     },
     "metadata": {
      "needs_background": "light"
     },
     "output_type": "display_data"
    }
   ],
   "source": [
    "# add some formatting\n",
    "df_small['sightings'].plot(style={'sightings': 'red'}, \n",
    "                       figsize=(16,9),\n",
    "                          kind='line'\n",
    "                          );"
   ]
  },
  {
   "cell_type": "code",
   "execution_count": 57,
   "id": "18847f94-ef2f-46a3-a5bb-59e6c6bffd3c",
   "metadata": {},
   "outputs": [
    {
     "data": {
      "text/plain": [
       "Index(['Unnamed: 0', 'City', 'Colors Reported', 'Shape Reported', 'State',\n",
       "       'Time', 'Date', 'Year', 'Month', 'Day', 'Hour', 'Weekday',\n",
       "       'weekday_name', 'weekday_cats', 'sightings'],\n",
       "      dtype='object')"
      ]
     },
     "execution_count": 57,
     "metadata": {},
     "output_type": "execute_result"
    }
   ],
   "source": [
    "df_small.columns"
   ]
  },
  {
   "cell_type": "code",
   "execution_count": 59,
   "id": "00273272",
   "metadata": {},
   "outputs": [
    {
     "data": {
      "text/plain": [
       "<AxesSubplot:>"
      ]
     },
     "execution_count": 59,
     "metadata": {},
     "output_type": "execute_result"
    },
    {
     "data": {
      "image/png": "[encoded data removed]",
      "text/plain": [
       "<Figure size 432x288 with 1 Axes>"
      ]
     },
     "metadata": {
      "needs_background": "light"
     },
     "output_type": "display_data"
    }
   ],
   "source": [
    "df_small['Shape Reported'].value_counts().head()"
   ]
  },
  {
   "cell_type": "code",
   "execution_count": 62,
   "id": "faba1306",
   "metadata": {},
   "outputs": [
    {
     "data": {
      "text/plain": [
       "<AxesSubplot:>"
      ]
     },
     "execution_count": 62,
     "metadata": {},
     "output_type": "execute_result"
    },
    {
     "data": {
      "image/png": "[encoded data removed]",
      "text/plain": [
       "<Figure size 432x288 with 1 Axes>"
      ]
     },
     "metadata": {
      "needs_background": "light"
     },
     "output_type": "display_data"
    }
   ],
   "source": [
    "df_small['Shape Reported'].value_counts().head().plot(kind='barh')"
   ]
  },
  {
   "cell_type": "code",
   "execution_count": 70,
   "id": "2b768e45",
   "metadata": {},
   "outputs": [],
   "source": [
    "filter1 = df_small['Shape Reported']=='FIREBALL'\n",
    "\n",
    "filter2 = df_small['Shape Reported']=='CIRCLE'\n",
    "filter3 = df_small['Shape Reported']=='TRIANGLE'"
   ]
  },
  {
   "cell_type": "code",
   "execution_count": 77,
   "id": "2d94a8a0-6eb7-4f1c-89b9-d6066739b3f8",
   "metadata": {},
   "outputs": [
    {
     "data": {
      "text/plain": [
       "<AxesSubplot:xlabel='new-time'>"
      ]
     },
     "execution_count": 77,
     "metadata": {},
     "output_type": "execute_result"
    },
    {
     "data": {
      "image/png": "[encoded data removed]",
      "text/plain": [
       "<Figure size 1152x216 with 1 Axes>"
      ]
     },
     "metadata": {
      "needs_background": "light"
     },
     "output_type": "display_data"
    }
   ],
   "source": [
    "df_small[filter1]['sightings'].plot(figsize=(16,3),\n",
    "                                   style={'sightings': 'red'})"
   ]
  },
  {
   "cell_type": "code",
   "execution_count": 78,
   "id": "1997765c",
   "metadata": {},
   "outputs": [
    {
     "data": {
      "text/plain": [
       "<AxesSubplot:xlabel='new-time'>"
      ]
     },
     "execution_count": 78,
     "metadata": {},
     "output_type": "execute_result"
    },
    {
     "data": {
      "image/png": "[encoded data removed]",
      "text/plain": [
       "<Figure size 1152x216 with 1 Axes>"
      ]
     },
     "metadata": {
      "needs_background": "light"
     },
     "output_type": "display_data"
    }
   ],
   "source": [
    "df_small[filter1]['sightings'].plot(figsize=(16,3),\n",
    "                                   style={'sightings': 'red'})\n",
    "df_small[filter2]['sightings'].plot(figsize=(16,3),\n",
    "                                   style={'sightings': 'blue'})\n",
    "df_small[filter3]['sightings'].plot(figsize=(16,3),\n",
    "                                   style={'sightings': 'GREEN'})"
   ]
  },
  {
   "cell_type": "code",
   "execution_count": 79,
   "id": "5f091d46",
   "metadata": {},
   "outputs": [
    {
     "data": {
      "text/plain": [
       "<AxesSubplot:xlabel='new-time'>"
      ]
     },
     "execution_count": 79,
     "metadata": {},
     "output_type": "execute_result"
    },
    {
     "data": {
      "image/png": "[encoded data removed]",
      "text/plain": [
       "<Figure size 1152x648 with 1 Axes>"
      ]
     },
     "metadata": {
      "needs_background": "light"
     },
     "output_type": "display_data"
    }
   ],
   "source": [
    "# make two lines\n",
    "df_small[df_small['Shape Reported']=='CIRCLE']['sightings'].plot(style={'sightings': 'red'}, figsize=(16,9))\n",
    "df_small[df_small['Shape Reported']=='FIREBALL']['sightings'].plot(style={'sightings': 'blue'}, figsize=(16,9))\n",
    "df_small[df_small['Shape Reported']=='TRIANGLE']['sightings'].plot(style={'sightings': 'green'}, figsize=(16,9))\n",
    "df_small[df_small['Colors Reported']=='ORANGE']['sightings'].plot(style={'sightings': 'orange'}, figsize=(16,9))"
   ]
  },
  {
   "cell_type": "code",
   "execution_count": null,
   "id": "bdc46426",
   "metadata": {},
   "outputs": [],
   "source": []
  }
 ],
 "metadata": {
  "kernelspec": {
   "display_name": "default:Python",
   "language": "python",
   "name": "conda-env-default-py"
  },
  "language_info": {
   "codemirror_mode": {
    "name": "ipython",
    "version": 3
   },
   "file_extension": ".py",
   "mimetype": "text/x-python",
   "name": "python",
   "nbconvert_exporter": "python",
   "pygments_lexer": "ipython3",
   "version": "3.9.10"
  }
 },
 "nbformat": 4,
 "nbformat_minor": 5
}
